{
 "cells": [
  {
   "cell_type": "code",
   "execution_count": 1,
   "id": "28569fc1-c005-4392-be58-86c7dce6475d",
   "metadata": {},
   "outputs": [],
   "source": [
    "import numpy as np\n",
    "import pandas as pd\n",
    "from sklearn.model_selection import train_test_split, GridSearchCV\n",
    "from sklearn.ensemble import RandomForestClassifier\n",
    "from sklearn.metrics import accuracy_score"
   ]
  },
  {
   "cell_type": "code",
   "execution_count": 2,
   "id": "3ff46dee-275f-493a-84f3-ad19aacb214f",
   "metadata": {},
   "outputs": [],
   "source": [
    "df=pd.read_csv(r\"D:\\storage folder\\Downloads\\archive (1)\\loan_data_1.csv\")"
   ]
  },
  {
   "cell_type": "code",
   "execution_count": 3,
   "id": "4d4276f5-3b17-4a04-a1d2-17af71ad2162",
   "metadata": {},
   "outputs": [
    {
     "name": "stdout",
     "output_type": "stream",
     "text": [
      "<class 'pandas.core.frame.DataFrame'>\n",
      "RangeIndex: 381 entries, 0 to 380\n",
      "Data columns (total 14 columns):\n",
      " #   Column             Non-Null Count  Dtype  \n",
      "---  ------             --------------  -----  \n",
      " 0   Unnamed: 0         381 non-null    int64  \n",
      " 1   Loan_ID            381 non-null    object \n",
      " 2   Gender             376 non-null    object \n",
      " 3   Married            381 non-null    object \n",
      " 4   Dependents         373 non-null    object \n",
      " 5   Education          375 non-null    object \n",
      " 6   Self_Employed      360 non-null    object \n",
      " 7   ApplicantIncome    369 non-null    float64\n",
      " 8   CoapplicantIncome  363 non-null    float64\n",
      " 9   LoanAmount         373 non-null    float64\n",
      " 10  Loan_Amount_Term   370 non-null    float64\n",
      " 11  Credit_History     351 non-null    float64\n",
      " 12  Property_Area      381 non-null    object \n",
      " 13  Loan_Status        381 non-null    object \n",
      "dtypes: float64(5), int64(1), object(8)\n",
      "memory usage: 41.8+ KB\n"
     ]
    }
   ],
   "source": [
    "df.info()"
   ]
  },
  {
   "cell_type": "code",
   "execution_count": 4,
   "id": "40a15be5-4f1c-4747-8bf0-99449a4b7b00",
   "metadata": {},
   "outputs": [],
   "source": [
    "df.drop(columns=['Unnamed: 0','Loan_ID'],inplace=True)"
   ]
  },
  {
   "cell_type": "code",
   "execution_count": 5,
   "id": "bbb414ae-54bb-48f0-9b9e-4c889dd6ca17",
   "metadata": {},
   "outputs": [],
   "source": [
    "df.drop(columns=['Credit_History'],inplace=True)"
   ]
  },
  {
   "cell_type": "code",
   "execution_count": 6,
   "id": "f59b6115-8329-4bed-98e9-cdb0aba7522f",
   "metadata": {},
   "outputs": [
    {
     "name": "stdout",
     "output_type": "stream",
     "text": [
      "<class 'pandas.core.frame.DataFrame'>\n",
      "RangeIndex: 381 entries, 0 to 380\n",
      "Data columns (total 11 columns):\n",
      " #   Column             Non-Null Count  Dtype  \n",
      "---  ------             --------------  -----  \n",
      " 0   Gender             376 non-null    object \n",
      " 1   Married            381 non-null    object \n",
      " 2   Dependents         373 non-null    object \n",
      " 3   Education          375 non-null    object \n",
      " 4   Self_Employed      360 non-null    object \n",
      " 5   ApplicantIncome    369 non-null    float64\n",
      " 6   CoapplicantIncome  363 non-null    float64\n",
      " 7   LoanAmount         373 non-null    float64\n",
      " 8   Loan_Amount_Term   370 non-null    float64\n",
      " 9   Property_Area      381 non-null    object \n",
      " 10  Loan_Status        381 non-null    object \n",
      "dtypes: float64(4), object(7)\n",
      "memory usage: 32.9+ KB\n",
      "['Male' 'Female' nan]\n",
      "['Yes' 'No']\n",
      "['1' '0' '2' '3+' nan]\n",
      "['Graduate' 'Not Graduate' nan]\n",
      "['No' 'Yes' nan]\n",
      "['Rural' 'Urban' 'Semiurban']\n",
      "['N' 'Y']\n"
     ]
    }
   ],
   "source": [
    "df.info()\n",
    "features=['Gender','Married','Dependents','Education','Self_Employed','Property_Area','Loan_Status']\n",
    "for feature in features:\n",
    "    print(df[feature].unique())"
   ]
  },
  {
   "cell_type": "code",
   "execution_count": 7,
   "id": "364888fa-1395-4605-b41b-4172843d79c1",
   "metadata": {},
   "outputs": [],
   "source": [
    "df.dropna(inplace=True)"
   ]
  },
  {
   "cell_type": "code",
   "execution_count": 8,
   "id": "85662899-8c94-47e3-b531-a71e34603424",
   "metadata": {},
   "outputs": [
    {
     "name": "stdout",
     "output_type": "stream",
     "text": [
      "<class 'pandas.core.frame.DataFrame'>\n",
      "Index: 298 entries, 0 to 379\n",
      "Data columns (total 11 columns):\n",
      " #   Column             Non-Null Count  Dtype  \n",
      "---  ------             --------------  -----  \n",
      " 0   Gender             298 non-null    object \n",
      " 1   Married            298 non-null    object \n",
      " 2   Dependents         298 non-null    object \n",
      " 3   Education          298 non-null    object \n",
      " 4   Self_Employed      298 non-null    object \n",
      " 5   ApplicantIncome    298 non-null    float64\n",
      " 6   CoapplicantIncome  298 non-null    float64\n",
      " 7   LoanAmount         298 non-null    float64\n",
      " 8   Loan_Amount_Term   298 non-null    float64\n",
      " 9   Property_Area      298 non-null    object \n",
      " 10  Loan_Status        298 non-null    object \n",
      "dtypes: float64(4), object(7)\n",
      "memory usage: 27.9+ KB\n"
     ]
    }
   ],
   "source": [
    "df.info()"
   ]
  },
  {
   "cell_type": "code",
   "execution_count": 9,
   "id": "d7500c45-2e99-4745-b77a-348b7a2bead4",
   "metadata": {},
   "outputs": [],
   "source": [
    "df.replace('3+','3',inplace=True)"
   ]
  },
  {
   "cell_type": "code",
   "execution_count": 10,
   "id": "383c8dc9-7d31-434d-9835-bedef438a147",
   "metadata": {},
   "outputs": [
    {
     "data": {
      "text/plain": [
       "array(['1', '0', '2', '3'], dtype=object)"
      ]
     },
     "execution_count": 10,
     "metadata": {},
     "output_type": "execute_result"
    }
   ],
   "source": [
    "df['Dependents'].unique()"
   ]
  },
  {
   "cell_type": "code",
   "execution_count": 11,
   "id": "8c7ecc48-9285-4323-8718-ef390b7ad878",
   "metadata": {},
   "outputs": [
    {
     "name": "stderr",
     "output_type": "stream",
     "text": [
      "C:\\Users\\Umesh Potha\\AppData\\Local\\Temp\\ipykernel_13016\\3070199686.py:1: FutureWarning: A value is trying to be set on a copy of a DataFrame or Series through chained assignment using an inplace method.\n",
      "The behavior will change in pandas 3.0. This inplace method will never work because the intermediate object on which we are setting values always behaves as a copy.\n",
      "\n",
      "For example, when doing 'df[col].method(value, inplace=True)', try using 'df.method({col: value}, inplace=True)' or df[col] = df[col].method(value) instead, to perform the operation inplace on the original object.\n",
      "\n",
      "\n",
      "  df['Loan_Status'].replace(['Y','N'],[True,False],inplace=True)\n",
      "C:\\Users\\Umesh Potha\\AppData\\Local\\Temp\\ipykernel_13016\\3070199686.py:1: FutureWarning: Downcasting behavior in `replace` is deprecated and will be removed in a future version. To retain the old behavior, explicitly call `result.infer_objects(copy=False)`. To opt-in to the future behavior, set `pd.set_option('future.no_silent_downcasting', True)`\n",
      "  df['Loan_Status'].replace(['Y','N'],[True,False],inplace=True)\n"
     ]
    }
   ],
   "source": [
    "df['Loan_Status'].replace(['Y','N'],[True,False],inplace=True)"
   ]
  },
  {
   "cell_type": "code",
   "execution_count": 12,
   "id": "a5d27e52-2f2e-4f22-93de-84c7fe729e0d",
   "metadata": {},
   "outputs": [
    {
     "name": "stderr",
     "output_type": "stream",
     "text": [
      "C:\\Users\\Umesh Potha\\AppData\\Local\\Temp\\ipykernel_13016\\296917177.py:1: FutureWarning: A value is trying to be set on a copy of a DataFrame or Series through chained assignment using an inplace method.\n",
      "The behavior will change in pandas 3.0. This inplace method will never work because the intermediate object on which we are setting values always behaves as a copy.\n",
      "\n",
      "For example, when doing 'df[col].method(value, inplace=True)', try using 'df.method({col: value}, inplace=True)' or df[col] = df[col].method(value) instead, to perform the operation inplace on the original object.\n",
      "\n",
      "\n",
      "  df['Gender'].replace(['Male','Female'],[0,1],inplace=True)\n",
      "C:\\Users\\Umesh Potha\\AppData\\Local\\Temp\\ipykernel_13016\\296917177.py:1: FutureWarning: Downcasting behavior in `replace` is deprecated and will be removed in a future version. To retain the old behavior, explicitly call `result.infer_objects(copy=False)`. To opt-in to the future behavior, set `pd.set_option('future.no_silent_downcasting', True)`\n",
      "  df['Gender'].replace(['Male','Female'],[0,1],inplace=True)\n"
     ]
    }
   ],
   "source": [
    "df['Gender'].replace(['Male','Female'],[0,1],inplace=True)"
   ]
  },
  {
   "cell_type": "code",
   "execution_count": 13,
   "id": "5bcb022d-053f-4da8-a1f5-cb58ae8cec9f",
   "metadata": {},
   "outputs": [
    {
     "name": "stderr",
     "output_type": "stream",
     "text": [
      "C:\\Users\\Umesh Potha\\AppData\\Local\\Temp\\ipykernel_13016\\3796466651.py:1: FutureWarning: A value is trying to be set on a copy of a DataFrame or Series through chained assignment using an inplace method.\n",
      "The behavior will change in pandas 3.0. This inplace method will never work because the intermediate object on which we are setting values always behaves as a copy.\n",
      "\n",
      "For example, when doing 'df[col].method(value, inplace=True)', try using 'df.method({col: value}, inplace=True)' or df[col] = df[col].method(value) instead, to perform the operation inplace on the original object.\n",
      "\n",
      "\n",
      "  df['Married'].replace(['Yes','No'],[0,1],inplace=True)\n",
      "C:\\Users\\Umesh Potha\\AppData\\Local\\Temp\\ipykernel_13016\\3796466651.py:1: FutureWarning: Downcasting behavior in `replace` is deprecated and will be removed in a future version. To retain the old behavior, explicitly call `result.infer_objects(copy=False)`. To opt-in to the future behavior, set `pd.set_option('future.no_silent_downcasting', True)`\n",
      "  df['Married'].replace(['Yes','No'],[0,1],inplace=True)\n"
     ]
    }
   ],
   "source": [
    "df['Married'].replace(['Yes','No'],[0,1],inplace=True)"
   ]
  },
  {
   "cell_type": "code",
   "execution_count": 14,
   "id": "937f92c2-71df-4f2f-922a-48cbb5ab79f0",
   "metadata": {},
   "outputs": [
    {
     "name": "stderr",
     "output_type": "stream",
     "text": [
      "C:\\Users\\Umesh Potha\\AppData\\Local\\Temp\\ipykernel_13016\\4146445020.py:1: FutureWarning: A value is trying to be set on a copy of a DataFrame or Series through chained assignment using an inplace method.\n",
      "The behavior will change in pandas 3.0. This inplace method will never work because the intermediate object on which we are setting values always behaves as a copy.\n",
      "\n",
      "For example, when doing 'df[col].method(value, inplace=True)', try using 'df.method({col: value}, inplace=True)' or df[col] = df[col].method(value) instead, to perform the operation inplace on the original object.\n",
      "\n",
      "\n",
      "  df['Dependents'].replace(['1','0','3','2'],[1,0,3,2],inplace=True)\n",
      "C:\\Users\\Umesh Potha\\AppData\\Local\\Temp\\ipykernel_13016\\4146445020.py:1: FutureWarning: Downcasting behavior in `replace` is deprecated and will be removed in a future version. To retain the old behavior, explicitly call `result.infer_objects(copy=False)`. To opt-in to the future behavior, set `pd.set_option('future.no_silent_downcasting', True)`\n",
      "  df['Dependents'].replace(['1','0','3','2'],[1,0,3,2],inplace=True)\n"
     ]
    }
   ],
   "source": [
    "df['Dependents'].replace(['1','0','3','2'],[1,0,3,2],inplace=True)"
   ]
  },
  {
   "cell_type": "code",
   "execution_count": 15,
   "id": "9c0fde10-0d07-478e-a2e2-d9ad039ccc2c",
   "metadata": {},
   "outputs": [
    {
     "name": "stderr",
     "output_type": "stream",
     "text": [
      "C:\\Users\\Umesh Potha\\AppData\\Local\\Temp\\ipykernel_13016\\2737451311.py:1: FutureWarning: A value is trying to be set on a copy of a DataFrame or Series through chained assignment using an inplace method.\n",
      "The behavior will change in pandas 3.0. This inplace method will never work because the intermediate object on which we are setting values always behaves as a copy.\n",
      "\n",
      "For example, when doing 'df[col].method(value, inplace=True)', try using 'df.method({col: value}, inplace=True)' or df[col] = df[col].method(value) instead, to perform the operation inplace on the original object.\n",
      "\n",
      "\n",
      "  df['Education'].replace(['Graduate','Not Graduate'],[0,1],inplace=True)\n",
      "C:\\Users\\Umesh Potha\\AppData\\Local\\Temp\\ipykernel_13016\\2737451311.py:1: FutureWarning: Downcasting behavior in `replace` is deprecated and will be removed in a future version. To retain the old behavior, explicitly call `result.infer_objects(copy=False)`. To opt-in to the future behavior, set `pd.set_option('future.no_silent_downcasting', True)`\n",
      "  df['Education'].replace(['Graduate','Not Graduate'],[0,1],inplace=True)\n"
     ]
    }
   ],
   "source": [
    "df['Education'].replace(['Graduate','Not Graduate'],[0,1],inplace=True)"
   ]
  },
  {
   "cell_type": "code",
   "execution_count": 16,
   "id": "21770a45-40ab-4a53-acf3-8de37f8e9db1",
   "metadata": {},
   "outputs": [
    {
     "name": "stderr",
     "output_type": "stream",
     "text": [
      "C:\\Users\\Umesh Potha\\AppData\\Local\\Temp\\ipykernel_13016\\917662547.py:1: FutureWarning: A value is trying to be set on a copy of a DataFrame or Series through chained assignment using an inplace method.\n",
      "The behavior will change in pandas 3.0. This inplace method will never work because the intermediate object on which we are setting values always behaves as a copy.\n",
      "\n",
      "For example, when doing 'df[col].method(value, inplace=True)', try using 'df.method({col: value}, inplace=True)' or df[col] = df[col].method(value) instead, to perform the operation inplace on the original object.\n",
      "\n",
      "\n",
      "  df['Self_Employed'].replace(['No','Yes'],[0,1],inplace=True)\n",
      "C:\\Users\\Umesh Potha\\AppData\\Local\\Temp\\ipykernel_13016\\917662547.py:1: FutureWarning: Downcasting behavior in `replace` is deprecated and will be removed in a future version. To retain the old behavior, explicitly call `result.infer_objects(copy=False)`. To opt-in to the future behavior, set `pd.set_option('future.no_silent_downcasting', True)`\n",
      "  df['Self_Employed'].replace(['No','Yes'],[0,1],inplace=True)\n"
     ]
    }
   ],
   "source": [
    "df['Self_Employed'].replace(['No','Yes'],[0,1],inplace=True)"
   ]
  },
  {
   "cell_type": "code",
   "execution_count": 17,
   "id": "3606663a-ba39-44a6-a42e-a6e1495d12a1",
   "metadata": {},
   "outputs": [
    {
     "data": {
      "text/plain": [
       "array(['Rural', 'Urban', 'Semiurban'], dtype=object)"
      ]
     },
     "execution_count": 17,
     "metadata": {},
     "output_type": "execute_result"
    }
   ],
   "source": [
    "df['Property_Area'].unique()"
   ]
  },
  {
   "cell_type": "code",
   "execution_count": 18,
   "id": "b88581d7-7b5e-4537-9c74-304040fbd2eb",
   "metadata": {},
   "outputs": [
    {
     "name": "stderr",
     "output_type": "stream",
     "text": [
      "C:\\Users\\Umesh Potha\\AppData\\Local\\Temp\\ipykernel_13016\\1419481553.py:1: FutureWarning: A value is trying to be set on a copy of a DataFrame or Series through chained assignment using an inplace method.\n",
      "The behavior will change in pandas 3.0. This inplace method will never work because the intermediate object on which we are setting values always behaves as a copy.\n",
      "\n",
      "For example, when doing 'df[col].method(value, inplace=True)', try using 'df.method({col: value}, inplace=True)' or df[col] = df[col].method(value) instead, to perform the operation inplace on the original object.\n",
      "\n",
      "\n",
      "  df['Property_Area'].replace(['Rural','Urban','Semiurban'],[0,1,2],inplace=True)\n",
      "C:\\Users\\Umesh Potha\\AppData\\Local\\Temp\\ipykernel_13016\\1419481553.py:1: FutureWarning: Downcasting behavior in `replace` is deprecated and will be removed in a future version. To retain the old behavior, explicitly call `result.infer_objects(copy=False)`. To opt-in to the future behavior, set `pd.set_option('future.no_silent_downcasting', True)`\n",
      "  df['Property_Area'].replace(['Rural','Urban','Semiurban'],[0,1,2],inplace=True)\n"
     ]
    }
   ],
   "source": [
    "df['Property_Area'].replace(['Rural','Urban','Semiurban'],[0,1,2],inplace=True)"
   ]
  },
  {
   "cell_type": "code",
   "execution_count": 20,
   "id": "e0e65e05-f8eb-495d-851a-bd96074143f9",
   "metadata": {},
   "outputs": [
    {
     "name": "stdout",
     "output_type": "stream",
     "text": [
      "Accuracy: 0.7333333333333333\n"
     ]
    }
   ],
   "source": [
    "from sklearn.ensemble import RandomForestClassifier\n",
    "from sklearn.datasets import make_classification\n",
    "from sklearn.model_selection import train_test_split\n",
    "from sklearn.metrics import accuracy_score\n",
    "\n",
    "# Generate some synthetic data for demonstration\n",
    "X, y = df.drop(columns=['Loan_Status']),df['Loan_Status']\n",
    "\n",
    "# Split the data into training and testing sets\n",
    "X_train, X_test, y_train, y_test = train_test_split(X, y, test_size=0.2, random_state=42)\n",
    "\n",
    "# Initialize the Random Forest classifier\n",
    "rf_classifier = RandomForestClassifier(n_estimators=100, random_state=42)\n",
    "\n",
    "# Train the classifier on the training data\n",
    "rf_classifier.fit(X_train, y_train)\n",
    "\n",
    "# Make predictions on the testing data\n",
    "y_pred = rf_classifier.predict(X_test)\n",
    "\n",
    "# Calculate the accuracy of the classifier\n",
    "accuracy = accuracy_score(y_test, y_pred)\n",
    "print(\"Accuracy:\", accuracy)\n"
   ]
  },
  {
   "cell_type": "code",
   "execution_count": 21,
   "id": "3ec26bb7-23f3-4c80-a190-ac96d35a2836",
   "metadata": {},
   "outputs": [],
   "source": [
    "import pickle"
   ]
  },
  {
   "cell_type": "code",
   "execution_count": 22,
   "id": "ffc0c2fb-08c2-4fcd-920b-dbf5b6631172",
   "metadata": {},
   "outputs": [],
   "source": [
    "with open('random_forest_classifier.pkl', 'wb') as file:\n",
    "    pickle.dump(rf_classifier, file)"
   ]
  },
  {
   "cell_type": "code",
   "execution_count": null,
   "id": "edebace6-879f-40ff-a93e-12cc4e350af1",
   "metadata": {},
   "outputs": [],
   "source": []
  }
 ],
 "metadata": {
  "kernelspec": {
   "display_name": "Python 3 (ipykernel)",
   "language": "python",
   "name": "python3"
  },
  "language_info": {
   "codemirror_mode": {
    "name": "ipython",
    "version": 3
   },
   "file_extension": ".py",
   "mimetype": "text/x-python",
   "name": "python",
   "nbconvert_exporter": "python",
   "pygments_lexer": "ipython3",
   "version": "3.12.3"
  }
 },
 "nbformat": 4,
 "nbformat_minor": 5
}
